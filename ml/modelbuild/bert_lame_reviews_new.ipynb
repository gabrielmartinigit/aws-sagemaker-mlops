{
 "cells": [
  {
   "cell_type": "code",
   "execution_count": 4,
   "metadata": {},
   "outputs": [
    {
     "name": "stdout",
     "output_type": "stream",
     "text": [
      "\u001b[33mWARNING: Running pip as the 'root' user can result in broken permissions and conflicting behaviour with the system package manager. It is recommended to use a virtual environment instead: https://pip.pypa.io/warnings/venv\u001b[0m\u001b[33m\n",
      "\u001b[0m"
     ]
    }
   ],
   "source": [
    "!pip -q install transformers"
   ]
  },
  {
   "cell_type": "code",
   "execution_count": 5,
   "metadata": {},
   "outputs": [],
   "source": [
    "%%capture\n",
    "import IPython\n",
    "import sys\n",
    "\n",
    "!{sys.executable} -m pip install ipywidgets\n",
    "IPython.Application.instance().kernel.do_shutdown(True)  # has to restart kernel so changes are used"
   ]
  },
  {
   "cell_type": "code",
   "execution_count": 2,
   "metadata": {},
   "outputs": [
    {
     "name": "stdout",
     "output_type": "stream",
     "text": [
      "No GPU available, using the CPU instead.\n"
     ]
    }
   ],
   "source": [
    "import torch\n",
    "import pandas as pd\n",
    "import numpy as np\n",
    "from sklearn.preprocessing import LabelEncoder\n",
    "import re\n",
    "from sklearn.model_selection import train_test_split, RepeatedStratifiedKFold\n",
    "from transformers import BertTokenizer\n",
    "from transformers import BertForSequenceClassification, AdamW, BertConfig\n",
    "from torch.utils.data import TensorDataset, DataLoader, RandomSampler, SequentialSampler\n",
    "import torch.nn.functional as F\n",
    "\n",
    "import torch.nn as nn\n",
    "from torch.utils.data import Dataset, DataLoader, random_split\n",
    "from torch.utils.data.sampler import SubsetRandomSampler\n",
    "import transformers\n",
    "from transformers import RobertaTokenizer, BertTokenizer, RobertaModel, BertModel, AdamW\n",
    "from transformers import get_linear_schedule_with_warmup\n",
    "import time\n",
    "from sklearn.metrics import roc_auc_score, classification_report, plot_confusion_matrix, confusion_matrix\n",
    "\n",
    "import warnings\n",
    "warnings.filterwarnings(\"ignore\")\n",
    "import tqdm\n",
    "import seaborn as sns\n",
    "import matplotlib.pyplot as plt\n",
    "\n",
    "\n",
    "BERT_MODEL_NAME = 'neuralmind/bert-base-portuguese-cased'\n",
    "# BERT_MODEL_NAME = 'neuralmind/bert-large-portuguese-cased'\n",
    "\n",
    "\n",
    "class BertClassificationModel(nn.Module):\n",
    "    def __init__(self):\n",
    "        super(BertClassificationModel, self).__init__()\n",
    "        self.bert_path = BERT_MODEL_NAME\n",
    "        self.bert = transformers.BertModel.from_pretrained(self.bert_path)\n",
    "        self.bert_drop=nn.Dropout(0.3)\n",
    "        self.out = nn.Linear(768, 2)\n",
    "        # self.out = nn.Linear(1024, 2)\n",
    "\n",
    "    def forward(self, ids, mask):\n",
    "        outputs = self.bert(input_ids=ids, attention_mask=mask)\n",
    "        rh=self.bert_drop(outputs.pooler_output)\n",
    "        return self.out(rh)\n",
    "\n",
    "\n",
    "class CudaDevice:\n",
    "    def get_device(self, force_cpu=False):\n",
    "        if not force_cpu and torch.cuda.is_available():\n",
    "            device = torch.device(\"cuda\")\n",
    "            print('Existe(m) %d GPU(s) disponíveis.' %\n",
    "                  torch.cuda.device_count())\n",
    "            print('A GPU', torch.cuda.get_device_name(0), 'será usada.')\n",
    "        else:\n",
    "            print('No GPU available, using the CPU instead.')\n",
    "            device = torch.device(\"cpu\")\n",
    "        return device\n",
    "\n",
    "\n",
    "class BertDataset(Dataset):\n",
    "\n",
    "    def __init__(self,\n",
    "                 data,\n",
    "                 tokenizer,\n",
    "                 max_len=None,\n",
    "                 max_size_dataset=None,\n",
    "                 ):\n",
    "        self.tokenizer = tokenizer\n",
    "        self.data_raw = data\n",
    "        self.max_len = max_len\n",
    "        self.max_size_dataset = max_size_dataset\n",
    "        self.data, self.label = self.process_data()\n",
    "        \n",
    "\n",
    "    def process_data(self):\n",
    "        \n",
    "        print('Carregando os dados do dataset')\n",
    "        df = self.data_raw.copy()\n",
    "\n",
    "        if self.max_len:\n",
    "            print(f'Limitando textos em {self.max_len} caracteres!')\n",
    "            df['text'] = df['text'].apply(lambda x: x[:self.max_len] if len(x) > self.max_len else x)\n",
    "\n",
    "        train = df.copy()\n",
    "\n",
    "        if(self.max_size_dataset):\n",
    "            print(f'Limitando dataset em {self.max_size_dataset} registros!')\n",
    "            train = train.loc[0:self.max_size_dataset, :]\n",
    "            \n",
    "        train = train.reindex(np.random.permutation(train.index))\n",
    "        train['text'] = train['text'].apply(self.clean_txt)\n",
    "        return train['text'].values, train['label'].values\n",
    "\n",
    "    def clean_txt(self, text):\n",
    "        # text = re.sub(\"'\", \"\", text)\n",
    "        # text = re.sub(\"(\\\\W)+\", \" \", text)\n",
    "        return text\n",
    "\n",
    "    def __getitem__(self, idx):\n",
    "\n",
    "        text = str(self.data[idx])\n",
    "        target = int(self.label[idx])\n",
    "\n",
    "        data = self.tokenizer.encode_plus(\n",
    "            text,\n",
    "            max_length=512,\n",
    "            pad_to_max_length=True,\n",
    "            add_special_tokens=True,\n",
    "            return_attention_mask=True,\n",
    "            return_token_type_ids=False,\n",
    "            return_overflowing_tokens=False,\n",
    "            truncation=True,\n",
    "            return_tensors='pt')\n",
    "\n",
    "        return({\n",
    "            'ids': data['input_ids'].long(),\n",
    "            'mask': data['attention_mask'].int(),\n",
    "            'targets': torch.tensor([target], dtype=torch.int),\n",
    "            'texto': text.strip(),\n",
    "        })\n",
    "\n",
    "    def __len__(self):\n",
    "        \n",
    "        \"\"\" Return data length \"\"\"\n",
    "        return self.label.shape[0]\n",
    "\n",
    "\n",
    "def my_collate1(batches):\n",
    "    return [{key: value for key, value in batch.items()} for batch in batches]\n",
    "\n",
    "\n",
    "def loss_fun(outputs, targets):\n",
    "    loss = nn.CrossEntropyLoss()\n",
    "    return loss(outputs, targets)\n",
    "\n",
    "\n",
    "def evaluate(target, predicted):\n",
    "    \n",
    "    true_label_mask = [1 if (np.argmax(x)-target[i]) ==\n",
    "                       0 else 0 for i, x in enumerate(predicted)]\n",
    "    nb_prediction = len(true_label_mask)\n",
    "    true_prediction = sum(true_label_mask)\n",
    "    false_prediction = nb_prediction-true_prediction\n",
    "    accuracy = true_prediction/nb_prediction\n",
    "    \n",
    "    roc = roc_auc_score(target, predicted[:, 1])\n",
    "    \n",
    "    return{\n",
    "        \"accuracy\": accuracy,\n",
    "        \"nb examples\": len(target),\n",
    "        \"true_prediction\": true_prediction,\n",
    "        \"false_prediction\": false_prediction,\n",
    "        \"roc_auc\": roc\n",
    "    }\n",
    "\n",
    "\n",
    "def train_loop(data_loader, model, optimizer, device, scheduler=None):\n",
    "    model.train()\n",
    "    t0 = time.time()\n",
    "    losses = []\n",
    "    for batch_idx, batch in enumerate(data_loader):\n",
    "        ids = [data[\"ids\"] for data in batch]\n",
    "        mask = [data[\"mask\"] for data in batch]\n",
    "        targets = [data[\"targets\"] for data in batch]\n",
    "\n",
    "        ids = torch.cat(ids)\n",
    "        mask = torch.cat(mask)\n",
    "        targets = torch.cat(targets)\n",
    "\n",
    "        ids = ids.to(device, dtype=torch.long)\n",
    "        mask = mask.to(device, dtype=torch.long)\n",
    "        targets = targets.to(device, dtype=torch.long)\n",
    "\n",
    "        optimizer.zero_grad()\n",
    "        outputs = model(ids=ids, mask=mask)\n",
    "        loss = loss_fun(outputs, targets)\n",
    "        loss.backward()\n",
    "        model.float()\n",
    "        optimizer.step()\n",
    "        if scheduler:\n",
    "            scheduler.step()\n",
    "        losses.append(loss.item())\n",
    "        if batch_idx % 100 == 0:\n",
    "            print(f\"___ batch index = {batch_idx} / {len(data_loader)} ({100*batch_idx / len(data_loader):.2f}%), loss = {np.mean(losses[-10:]):.4f}, time = {time.time()-t0:.2f} seconds ___\")\n",
    "            t0 = time.time()\n",
    "    return losses    \n",
    "\n",
    "\n",
    "def eval_loop(data_loader, model, device):\n",
    "    model.eval()\n",
    "    fin_targets = []\n",
    "    fin_outputs = []\n",
    "    losses = []\n",
    "\n",
    "    for batch_idx, batch in tqdm.tqdm(enumerate(data_loader)):\n",
    "        ids = [data[\"ids\"] for data in batch]\n",
    "        mask = [data[\"mask\"] for data in batch]\n",
    "        targets = [data[\"targets\"] for data in batch]\n",
    "\n",
    "        ids = torch.cat(ids)\n",
    "        mask = torch.cat(mask)\n",
    "        targets = torch.cat(targets)\n",
    "\n",
    "        ids = ids.to(device, dtype=torch.long)\n",
    "        mask = mask.to(device, dtype=torch.long)\n",
    "        targets = targets.to(device, dtype=torch.long)\n",
    "\n",
    "        with torch.no_grad():\n",
    "            outputs = model(ids=ids, mask=mask)\n",
    "            loss = loss_fun(outputs, targets)\n",
    "            losses.append(loss.item())\n",
    "\n",
    "        fin_targets.append(targets.cpu().detach().numpy())\n",
    "        fin_outputs.append(torch.softmax(outputs, dim=1).cpu().detach().numpy())\n",
    "\n",
    "    return np.concatenate(fin_outputs), np.concatenate(fin_targets), losses    \n",
    "\n",
    "########################################################################################\n",
    "# variáveis globais\n",
    "########################################################################################\n",
    "device = CudaDevice().get_device(force_cpu=False)\n",
    "\n",
    "TRAIN_BATCH_SIZE = 4\n",
    "EPOCH = 3\n",
    "shuffle_dataset = True\n",
    "random_seed = 42\n",
    "MAX_LEN = None\n",
    "MAX_SIZE_DATASET = None\n",
    "\n",
    "\n",
    "########################################################################################\n",
    "# dataset\n",
    "########################################################################################\n",
    "train_raw = pd.read_csv('https://docs.google.com/uc?export=download&id=1_EKfnjomkWks4VqTMIpcEIb6nB5P0Xz2')\n",
    "train_raw.columns = ['label','text']\n",
    "train_raw['label'] = train_raw['label'].apply(lambda x: 1 if x == 'positivo' else 0)\n",
    "\n",
    "\n",
    "########################################################################################\n",
    "# se quiser trabalhar com amostra menor\n",
    "########################################################################################\n",
    "SAMPLE_SIZE = 1000\n",
    "s_labels = train_raw['label'].value_counts(normalize=True).sort_index()\n",
    "train_raw = pd.concat([\n",
    "    train_raw[train_raw['label']==0].sample(int(SAMPLE_SIZE * s_labels[0]), random_state=random_seed), # ~0.427427\n",
    "    train_raw[train_raw['label']==1].sample(int(SAMPLE_SIZE * s_labels[1]), random_state=random_seed), # ~0.572573\n",
    "])"
   ]
  },
  {
   "cell_type": "code",
   "execution_count": 8,
   "metadata": {
    "scrolled": true
   },
   "outputs": [
    {
     "name": "stdout",
     "output_type": "stream",
     "text": [
      "Loading BERT tokenizer...\n",
      "Carregando os dados do dataset\n",
      "Carregando os dados do dataset\n",
      "Carregando os dados do dataset\n"
     ]
    },
    {
     "name": "stderr",
     "output_type": "stream",
     "text": [
      "Some weights of the model checkpoint at neuralmind/bert-base-portuguese-cased were not used when initializing BertModel: ['cls.seq_relationship.weight', 'cls.predictions.transform.dense.weight', 'cls.seq_relationship.bias', 'cls.predictions.transform.dense.bias', 'cls.predictions.transform.LayerNorm.weight', 'cls.predictions.bias', 'cls.predictions.transform.LayerNorm.bias', 'cls.predictions.decoder.weight']\n",
      "- This IS expected if you are initializing BertModel from the checkpoint of a model trained on another task or with another architecture (e.g. initializing a BertForSequenceClassification model from a BertForPreTraining model).\n",
      "- This IS NOT expected if you are initializing BertModel from the checkpoint of a model that you expect to be exactly identical (initializing a BertForSequenceClassification model from a BertForSequenceClassification model).\n"
     ]
    },
    {
     "name": "stdout",
     "output_type": "stream",
     "text": [
      "\n",
      "=============== EPOCH 1 / 3 ===============\n",
      "\n",
      "___ batch index = 0 / 140 (0.00%), loss = 0.6810, time = 0.40 seconds ___\n",
      "___ batch index = 100 / 140 (71.43%), loss = 0.0501, time = 39.28 seconds ___\n",
      "\n",
      "*** avg_loss : 0.23, time : ~0.0 min (55.52 sec) ***\n",
      "\n"
     ]
    },
    {
     "name": "stderr",
     "output_type": "stream",
     "text": [
      "35it [00:05,  6.40it/s]\n"
     ]
    },
    {
     "name": "stdout",
     "output_type": "stream",
     "text": [
      "==> evaluation : avg_loss = 0.17, time : 5.47 sec\n",
      "\n",
      "=====>\t{'accuracy': 0.9214285714285714, 'nb examples': 140, 'true_prediction': 129, 'false_prediction': 11, 'roc_auc': 0.9883333333333335}\n",
      "\n",
      "=============== EPOCH 2 / 3 ===============\n",
      "\n",
      "___ batch index = 0 / 140 (0.00%), loss = 0.0179, time = 0.45 seconds ___\n",
      "___ batch index = 100 / 140 (71.43%), loss = 0.0078, time = 41.63 seconds ___\n",
      "\n",
      "*** avg_loss : 0.07, time : ~0.0 min (58.23 sec) ***\n",
      "\n"
     ]
    },
    {
     "name": "stderr",
     "output_type": "stream",
     "text": [
      "35it [00:05,  6.30it/s]\n"
     ]
    },
    {
     "name": "stdout",
     "output_type": "stream",
     "text": [
      "==> evaluation : avg_loss = 0.18, time : 5.55 sec\n",
      "\n",
      "=====>\t{'accuracy': 0.95, 'nb examples': 140, 'true_prediction': 133, 'false_prediction': 7, 'roc_auc': 0.9860416666666667}\n",
      "\n",
      "=============== EPOCH 3 / 3 ===============\n",
      "\n",
      "___ batch index = 0 / 140 (0.00%), loss = 0.0052, time = 0.47 seconds ___\n",
      "___ batch index = 100 / 140 (71.43%), loss = 0.0058, time = 41.68 seconds ___\n",
      "\n",
      "*** avg_loss : 0.03, time : ~0.0 min (58.34 sec) ***\n",
      "\n"
     ]
    },
    {
     "name": "stderr",
     "output_type": "stream",
     "text": [
      "35it [00:05,  6.32it/s]\n"
     ]
    },
    {
     "name": "stdout",
     "output_type": "stream",
     "text": [
      "==> evaluation : avg_loss = 0.15, time : 5.54 sec\n",
      "\n",
      "=====>\t{'accuracy': 0.9642857142857143, 'nb examples': 140, 'true_prediction': 135, 'false_prediction': 5, 'roc_auc': 0.9841666666666666}\n"
     ]
    }
   ],
   "source": [
    "print('Loading BERT tokenizer...')\n",
    "\n",
    "tokenizer = BertTokenizer.from_pretrained(BERT_MODEL_NAME)\n",
    "\n",
    "X_train, X_test, y_train, y_test = train_test_split(\n",
    "    train_raw[['text']], \n",
    "    train_raw.label, \n",
    "    test_size=0.3, \n",
    "    stratify=train_raw.label,\n",
    "    random_state=random_seed\n",
    ")\n",
    "\n",
    "X_train, X_val, y_train, y_val = train_test_split(\n",
    "    X_train[['text']], \n",
    "    y_train, \n",
    "    test_size=0.2, \n",
    "    stratify=y_train,\n",
    "    random_state=random_seed\n",
    ")\n",
    "\n",
    "train_dataset = BertDataset(\n",
    "    data=pd.concat([X_train, y_train], axis=1),\n",
    "    tokenizer=tokenizer,\n",
    "    max_len=MAX_LEN,\n",
    "    max_size_dataset=MAX_SIZE_DATASET,\n",
    ")\n",
    "\n",
    "val_dataset = BertDataset(\n",
    "    data=pd.concat([X_val, y_val], axis=1),\n",
    "    tokenizer=tokenizer,\n",
    "    max_len=MAX_LEN,\n",
    "    max_size_dataset=MAX_SIZE_DATASET,\n",
    ")\n",
    "\n",
    "test_dataset = BertDataset(\n",
    "    data=pd.concat([X_test, y_test], axis=1),\n",
    "    tokenizer=tokenizer,\n",
    "    max_len=MAX_LEN,\n",
    "    max_size_dataset=MAX_SIZE_DATASET,\n",
    ")\n",
    "\n",
    "train_data_loader = DataLoader(\n",
    "  train_dataset,\n",
    "  batch_size=TRAIN_BATCH_SIZE,\n",
    "  collate_fn=my_collate1\n",
    ")\n",
    "\n",
    "valid_data_loader = DataLoader(\n",
    "  val_dataset,\n",
    "  batch_size=TRAIN_BATCH_SIZE,\n",
    "  collate_fn=my_collate1\n",
    ")\n",
    "\n",
    "test_data_loader = DataLoader(\n",
    "  test_dataset,\n",
    "  batch_size=TRAIN_BATCH_SIZE,\n",
    "  collate_fn=my_collate1\n",
    ")\n",
    "\n",
    "lr=3e-5\n",
    "num_training_steps=int(len(train_dataset) / TRAIN_BATCH_SIZE * EPOCH)\n",
    "\n",
    "model=BertClassificationModel().to(device)\n",
    "optimizer=AdamW(model.parameters(), lr=lr)\n",
    "scheduler = get_linear_schedule_with_warmup(optimizer, \n",
    "                                        num_warmup_steps = 0,\n",
    "                                        num_training_steps = num_training_steps)\n",
    "val_losses=[]\n",
    "batches_losses=[]\n",
    "val_acc=[]\n",
    "batches_probs=[]\n",
    "\n",
    "for epoch in range(EPOCH):\n",
    "    t0 = time.time()    \n",
    "    print(f\"\\n=============== EPOCH {epoch+1} / {EPOCH} ===============\\n\")\n",
    "    batches_losses_tmp=train_loop(train_data_loader, model, optimizer, device)\n",
    "    epoch_loss=np.mean(batches_losses_tmp)\n",
    "    print(f\"\\n*** avg_loss : {epoch_loss:.2f}, time : ~{(time.time()-t0)//60} min ({time.time()-t0:.2f} sec) ***\\n\")\n",
    "    t1=time.time()\n",
    "    output, target, val_losses_tmp = eval_loop(valid_data_loader, model, device)\n",
    "    print(f\"==> evaluation : avg_loss = {np.mean(val_losses_tmp):.2f}, time : {time.time()-t1:.2f} sec\\n\")\n",
    "    tmp_evaluate=evaluate(target.reshape(-1), output)\n",
    "    print(f\"=====>\\t{tmp_evaluate}\")\n",
    "    val_acc.append(tmp_evaluate['accuracy'])\n",
    "    val_losses.append(np.mean(val_losses_tmp))\n",
    "    batches_losses.append(np.mean(batches_losses_tmp))\n",
    "    batches_probs.append(output)\n",
    "    torch.save(model, f\"./checkpoints/model_epoch_{epoch+1}.pt\")"
   ]
  },
  {
   "cell_type": "code",
   "execution_count": 10,
   "metadata": {},
   "outputs": [
    {
     "name": "stderr",
     "output_type": "stream",
     "text": [
      "75it [00:10,  7.43it/s]\n"
     ]
    }
   ],
   "source": [
    "model = torch.load(\"./checkpoints/model_epoch_2.pt\")\n",
    "output, target, val_losses_tmp = eval_loop(test_data_loader, model, device)"
   ]
  },
  {
   "cell_type": "code",
   "execution_count": 11,
   "metadata": {},
   "outputs": [
    {
     "name": "stdout",
     "output_type": "stream",
     "text": [
      "==> evaluation : avg_loss = 0.20 sec\n",
      "\n",
      "=====>\t{'accuracy': 0.9466666666666667, 'nb examples': 300, 'true_prediction': 284, 'false_prediction': 16, 'roc_auc': 0.9828760901162791}\n"
     ]
    }
   ],
   "source": [
    "print(f\"==> evaluation : avg_loss = {np.mean(val_losses_tmp):.2f} sec\\n\")\n",
    "tmp_evaluate=evaluate(target.reshape(-1), output)\n",
    "print(f\"=====>\\t{tmp_evaluate}\")"
   ]
  },
  {
   "cell_type": "code",
   "execution_count": 12,
   "metadata": {},
   "outputs": [
    {
     "name": "stdout",
     "output_type": "stream",
     "text": [
      "              precision    recall  f1-score   support\n",
      "\n",
      "           0       0.92      0.95      0.94       128\n",
      "           1       0.96      0.94      0.95       172\n",
      "\n",
      "    accuracy                           0.95       300\n",
      "   macro avg       0.94      0.95      0.95       300\n",
      "weighted avg       0.95      0.95      0.95       300\n",
      "\n"
     ]
    }
   ],
   "source": [
    "o = [1 if ot > .5 else 0 for ot in output[:, 1]]\n",
    "print(classification_report(target, o))"
   ]
  },
  {
   "cell_type": "code",
   "execution_count": 13,
   "metadata": {},
   "outputs": [
    {
     "data": {
      "image/png": "[encoded data removed]",
      "text/plain": [
       "<Figure size 432x288 with 2 Axes>"
      ]
     },
     "metadata": {
      "needs_background": "light"
     },
     "output_type": "display_data"
    }
   ],
   "source": [
    "cm = confusion_matrix(normalize='true', y_pred=o, y_true=target)\n",
    "sns.heatmap(cm, annot=True)\n",
    "plt.show()"
   ]
  },
  {
   "cell_type": "code",
   "execution_count": 14,
   "metadata": {},
   "outputs": [
    {
     "name": "stdout",
     "output_type": "stream",
     "text": [
      "Existe(m) 4 GPU(s) disponíveis.\n",
      "A GPU Tesla T4 será usada.\n",
      "Predição = Neg(0.0893), Pos(0.9107)\n"
     ]
    }
   ],
   "source": [
    "device = CudaDevice().get_device(force_cpu=False)\n",
    "\n",
    "tokenizer = BertTokenizer.from_pretrained(BERT_MODEL_NAME)\n",
    "model = torch.load(\"./checkpoints/model_epoch_2.pt\")\n",
    "# Verifica a probabilidade da predição\n",
    "novo_texto = 'Não vi outro produto que atende tão bem a minha necessidade.'\n",
    "\n",
    "\n",
    "model.eval()\n",
    "with torch.no_grad():\n",
    "  data = tokenizer.encode_plus(\n",
    "    novo_texto,\n",
    "    max_length=512,\n",
    "    pad_to_max_length=True,\n",
    "    add_special_tokens=True,\n",
    "    return_attention_mask=True,\n",
    "    return_token_type_ids=False,\n",
    "    return_overflowing_tokens=False,\n",
    "    truncation=True,\n",
    "    return_tensors='pt')\n",
    "  \n",
    "  ids = data['input_ids'].to(device, dtype=torch.long)\n",
    "  mask = data['attention_mask'].to(device, dtype=torch.long)\n",
    "\n",
    "  otps = model(ids=ids, mask=mask)\n",
    "  pred_proba = torch.softmax(otps, dim=1)\n",
    "\n",
    "print(f'Predição = Neg({pred_proba[0][0]:0.4f}), Pos({pred_proba[0][1]:0.4f})')"
   ]
  },
  {
   "cell_type": "code",
   "execution_count": 15,
   "metadata": {},
   "outputs": [
    {
     "data": {
      "text/plain": [
       "'Não vi outro produto que atende tão bem a minha necessidade.'"
      ]
     },
     "execution_count": 15,
     "metadata": {},
     "output_type": "execute_result"
    }
   ],
   "source": [
    "novo_texto"
   ]
  },
  {
   "cell_type": "code",
   "execution_count": 16,
   "metadata": {},
   "outputs": [
    {
     "data": {
      "text/plain": [
       "tensor([[1, 1, 1, 1, 1, 1, 1, 1, 1, 1, 1, 1, 1, 1, 0, 0, 0, 0, 0, 0, 0, 0, 0, 0,\n",
       "         0, 0, 0, 0, 0, 0, 0, 0, 0, 0, 0, 0, 0, 0, 0, 0, 0, 0, 0, 0, 0, 0, 0, 0,\n",
       "         0, 0, 0, 0, 0, 0, 0, 0, 0, 0, 0, 0, 0, 0, 0, 0, 0, 0, 0, 0, 0, 0, 0, 0,\n",
       "         0, 0, 0, 0, 0, 0, 0, 0, 0, 0, 0, 0, 0, 0, 0, 0, 0, 0, 0, 0, 0, 0, 0, 0,\n",
       "         0, 0, 0, 0, 0, 0, 0, 0, 0, 0, 0, 0, 0, 0, 0, 0, 0, 0, 0, 0, 0, 0, 0, 0,\n",
       "         0, 0, 0, 0, 0, 0, 0, 0, 0, 0, 0, 0, 0, 0, 0, 0, 0, 0, 0, 0, 0, 0, 0, 0,\n",
       "         0, 0, 0, 0, 0, 0, 0, 0, 0, 0, 0, 0, 0, 0, 0, 0, 0, 0, 0, 0, 0, 0, 0, 0,\n",
       "         0, 0, 0, 0, 0, 0, 0, 0, 0, 0, 0, 0, 0, 0, 0, 0, 0, 0, 0, 0, 0, 0, 0, 0,\n",
       "         0, 0, 0, 0, 0, 0, 0, 0, 0, 0, 0, 0, 0, 0, 0, 0, 0, 0, 0, 0, 0, 0, 0, 0,\n",
       "         0, 0, 0, 0, 0, 0, 0, 0, 0, 0, 0, 0, 0, 0, 0, 0, 0, 0, 0, 0, 0, 0, 0, 0,\n",
       "         0, 0, 0, 0, 0, 0, 0, 0, 0, 0, 0, 0, 0, 0, 0, 0, 0, 0, 0, 0, 0, 0, 0, 0,\n",
       "         0, 0, 0, 0, 0, 0, 0, 0, 0, 0, 0, 0, 0, 0, 0, 0, 0, 0, 0, 0, 0, 0, 0, 0,\n",
       "         0, 0, 0, 0, 0, 0, 0, 0, 0, 0, 0, 0, 0, 0, 0, 0, 0, 0, 0, 0, 0, 0, 0, 0,\n",
       "         0, 0, 0, 0, 0, 0, 0, 0, 0, 0, 0, 0, 0, 0, 0, 0, 0, 0, 0, 0, 0, 0, 0, 0,\n",
       "         0, 0, 0, 0, 0, 0, 0, 0, 0, 0, 0, 0, 0, 0, 0, 0, 0, 0, 0, 0, 0, 0, 0, 0,\n",
       "         0, 0, 0, 0, 0, 0, 0, 0, 0, 0, 0, 0, 0, 0, 0, 0, 0, 0, 0, 0, 0, 0, 0, 0,\n",
       "         0, 0, 0, 0, 0, 0, 0, 0, 0, 0, 0, 0, 0, 0, 0, 0, 0, 0, 0, 0, 0, 0, 0, 0,\n",
       "         0, 0, 0, 0, 0, 0, 0, 0, 0, 0, 0, 0, 0, 0, 0, 0, 0, 0, 0, 0, 0, 0, 0, 0,\n",
       "         0, 0, 0, 0, 0, 0, 0, 0, 0, 0, 0, 0, 0, 0, 0, 0, 0, 0, 0, 0, 0, 0, 0, 0,\n",
       "         0, 0, 0, 0, 0, 0, 0, 0, 0, 0, 0, 0, 0, 0, 0, 0, 0, 0, 0, 0, 0, 0, 0, 0,\n",
       "         0, 0, 0, 0, 0, 0, 0, 0, 0, 0, 0, 0, 0, 0, 0, 0, 0, 0, 0, 0, 0, 0, 0, 0,\n",
       "         0, 0, 0, 0, 0, 0, 0, 0]])"
      ]
     },
     "execution_count": 16,
     "metadata": {},
     "output_type": "execute_result"
    }
   ],
   "source": [
    "ddd = tokenizer.encode_plus(\n",
    "    novo_texto,\n",
    "    max_length=512,\n",
    "    pad_to_max_length=True,\n",
    "    add_special_tokens=True,\n",
    "    return_attention_mask=True,\n",
    "    return_token_type_ids=False,\n",
    "    return_overflowing_tokens=False,\n",
    "    truncation=True,\n",
    "    return_tensors='pt')\n",
    "\n",
    "# tokenizer.convert_ids_to_tokens(ddd['input_ids'][0, :])\n",
    "\n",
    "ddd['attention_mask']"
   ]
  },
  {
   "cell_type": "code",
   "execution_count": 17,
   "metadata": {},
   "outputs": [
    {
     "name": "stdout",
     "output_type": "stream",
     "text": [
      "Predição = Neg(0.0189), Pos(0.9811)\n"
     ]
    }
   ],
   "source": [
    "novo_texto = 'Parabéns, você é excelente em fazer besteira.'\n",
    "\n",
    "model.eval()\n",
    "with torch.no_grad():\n",
    "  data = tokenizer.encode_plus(\n",
    "    novo_texto,\n",
    "    max_length=512,\n",
    "    pad_to_max_length=True,\n",
    "    add_special_tokens=True,\n",
    "    return_attention_mask=True,\n",
    "    return_token_type_ids=False,\n",
    "    return_overflowing_tokens=False,\n",
    "    truncation=True,\n",
    "    return_tensors='pt')\n",
    "  \n",
    "  ids = data['input_ids'].to(device, dtype=torch.long)\n",
    "  mask = data['attention_mask'].to(device, dtype=torch.long)\n",
    "\n",
    "  otps = model(ids=ids, mask=mask)\n",
    "  pred_proba = torch.softmax(otps, dim=1)\n",
    "\n",
    "print(f'Predição = Neg({pred_proba[0][0]:0.4f}), Pos({pred_proba[0][1]:0.4f})')"
   ]
  },
  {
   "cell_type": "code",
   "execution_count": 18,
   "metadata": {},
   "outputs": [
    {
     "data": {
      "text/plain": [
       "tensor([[1, 1, 1, 1, 1, 1, 1, 1, 1, 1, 1, 1, 1, 1, 1, 0, 0, 0, 0, 0, 0, 0, 0, 0,\n",
       "         0, 0, 0, 0, 0, 0, 0, 0, 0, 0, 0, 0, 0, 0, 0, 0, 0, 0, 0, 0, 0, 0, 0, 0,\n",
       "         0, 0, 0, 0, 0, 0, 0, 0, 0, 0, 0, 0, 0, 0, 0, 0, 0, 0, 0, 0, 0, 0, 0, 0,\n",
       "         0, 0, 0, 0, 0, 0, 0, 0, 0, 0, 0, 0, 0, 0, 0, 0, 0, 0, 0, 0, 0, 0, 0, 0,\n",
       "         0, 0, 0, 0, 0, 0, 0, 0, 0, 0, 0, 0, 0, 0, 0, 0, 0, 0, 0, 0, 0, 0, 0, 0,\n",
       "         0, 0, 0, 0, 0, 0, 0, 0, 0, 0, 0, 0, 0, 0, 0, 0, 0, 0, 0, 0, 0, 0, 0, 0,\n",
       "         0, 0, 0, 0, 0, 0, 0, 0, 0, 0, 0, 0, 0, 0, 0, 0, 0, 0, 0, 0, 0, 0, 0, 0,\n",
       "         0, 0, 0, 0, 0, 0, 0, 0, 0, 0, 0, 0, 0, 0, 0, 0, 0, 0, 0, 0, 0, 0, 0, 0,\n",
       "         0, 0, 0, 0, 0, 0, 0, 0, 0, 0, 0, 0, 0, 0, 0, 0, 0, 0, 0, 0, 0, 0, 0, 0,\n",
       "         0, 0, 0, 0, 0, 0, 0, 0, 0, 0, 0, 0, 0, 0, 0, 0, 0, 0, 0, 0, 0, 0, 0, 0,\n",
       "         0, 0, 0, 0, 0, 0, 0, 0, 0, 0, 0, 0, 0, 0, 0, 0, 0, 0, 0, 0, 0, 0, 0, 0,\n",
       "         0, 0, 0, 0, 0, 0, 0, 0, 0, 0, 0, 0, 0, 0, 0, 0, 0, 0, 0, 0, 0, 0, 0, 0,\n",
       "         0, 0, 0, 0, 0, 0, 0, 0, 0, 0, 0, 0, 0, 0, 0, 0, 0, 0, 0, 0, 0, 0, 0, 0,\n",
       "         0, 0, 0, 0, 0, 0, 0, 0, 0, 0, 0, 0, 0, 0, 0, 0, 0, 0, 0, 0, 0, 0, 0, 0,\n",
       "         0, 0, 0, 0, 0, 0, 0, 0, 0, 0, 0, 0, 0, 0, 0, 0, 0, 0, 0, 0, 0, 0, 0, 0,\n",
       "         0, 0, 0, 0, 0, 0, 0, 0, 0, 0, 0, 0, 0, 0, 0, 0, 0, 0, 0, 0, 0, 0, 0, 0,\n",
       "         0, 0, 0, 0, 0, 0, 0, 0, 0, 0, 0, 0, 0, 0, 0, 0, 0, 0, 0, 0, 0, 0, 0, 0,\n",
       "         0, 0, 0, 0, 0, 0, 0, 0, 0, 0, 0, 0, 0, 0, 0, 0, 0, 0, 0, 0, 0, 0, 0, 0,\n",
       "         0, 0, 0, 0, 0, 0, 0, 0, 0, 0, 0, 0, 0, 0, 0, 0, 0, 0, 0, 0, 0, 0, 0, 0,\n",
       "         0, 0, 0, 0, 0, 0, 0, 0, 0, 0, 0, 0, 0, 0, 0, 0, 0, 0, 0, 0, 0, 0, 0, 0,\n",
       "         0, 0, 0, 0, 0, 0, 0, 0, 0, 0, 0, 0, 0, 0, 0, 0, 0, 0, 0, 0, 0, 0, 0, 0,\n",
       "         0, 0, 0, 0, 0, 0, 0, 0]], device='cuda:0')"
      ]
     },
     "execution_count": 18,
     "metadata": {},
     "output_type": "execute_result"
    }
   ],
   "source": [
    "mask"
   ]
  },
  {
   "cell_type": "code",
   "execution_count": 19,
   "metadata": {},
   "outputs": [
    {
     "data": {
      "text/plain": [
       "['[CLS]',\n",
       " 'Para',\n",
       " '##b',\n",
       " '##éns',\n",
       " ',',\n",
       " 'você',\n",
       " 'é',\n",
       " 'excelente',\n",
       " 'em',\n",
       " 'fazer',\n",
       " 'be',\n",
       " '##st',\n",
       " '##eira',\n",
       " '.',\n",
       " '[SEP]',\n",
       " '[PAD]',\n",
       " '[PAD]',\n",
       " '[PAD]',\n",
       " '[PAD]',\n",
       " '[PAD]']"
      ]
     },
     "execution_count": 19,
     "metadata": {},
     "output_type": "execute_result"
    }
   ],
   "source": [
    "tokenizer.convert_ids_to_tokens(ids[0])[:20]"
   ]
  }
 ],
 "metadata": {
  "instance_type": "ml.g4dn.12xlarge",
  "kernelspec": {
   "display_name": "Python 3 (PyTorch 1.10 Python 3.8 GPU Optimized)",
   "language": "python",
   "name": "python3__SAGEMAKER_INTERNAL__arn:aws:sagemaker:us-east-1:081325390199:image/pytorch-1.10-gpu-py38"
  },
  "language_info": {
   "codemirror_mode": {
    "name": "ipython",
    "version": 3
   },
   "file_extension": ".py",
   "mimetype": "text/x-python",
   "name": "python",
   "nbconvert_exporter": "python",
   "pygments_lexer": "ipython3",
   "version": "3.8.10"
  }
 },
 "nbformat": 4,
 "nbformat_minor": 4
}
