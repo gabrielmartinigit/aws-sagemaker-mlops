{
 "cells": [
  {
   "cell_type": "markdown",
   "id": "1f1a6785-ad2f-4c77-890c-3dd1eb43ae5d",
   "metadata": {},
   "source": [
    "# Carregar Features"
   ]
  },
  {
   "cell_type": "code",
   "execution_count": 2,
   "id": "aa0ac101-7a38-4b6d-86fa-d3c55b9ce217",
   "metadata": {},
   "outputs": [],
   "source": [
    "import pandas as pd\n",
    "import numpy as np\n",
    "import boto3\n",
    "import sagemaker\n",
    "from sagemaker.session import Session\n",
    "from sagemaker.feature_store.feature_group import FeatureGroup"
   ]
  },
  {
   "cell_type": "code",
   "execution_count": 3,
   "id": "57c66b51-04d1-4119-831f-d73b3811f9ef",
   "metadata": {},
   "outputs": [],
   "source": [
    "boto_session = boto3.Session(region_name='us-east-1')\n",
    "sagemaker_client = boto_session.client(service_name='sagemaker', region_name='us-east-1')\n",
    "featurestore_runtime = boto_session.client(service_name='sagemaker-featurestore-runtime', region_name='us-east-1')"
   ]
  },
  {
   "cell_type": "code",
   "execution_count": 4,
   "id": "260799cb-bc40-477c-b07a-ef7b6de1ede6",
   "metadata": {},
   "outputs": [],
   "source": [
    "feature_store_session = Session(\n",
    "    boto_session=boto_session,\n",
    "    sagemaker_client=sagemaker_client,\n",
    "    sagemaker_featurestore_runtime_client=featurestore_runtime\n",
    ")"
   ]
  },
  {
   "cell_type": "code",
   "execution_count": 5,
   "id": "086e1d43-7f8c-4ff2-b379-633ba607764b",
   "metadata": {},
   "outputs": [],
   "source": [
    "feature_group_name = \"titanic-features\"\n",
    "titanic_feature_group = FeatureGroup(name=feature_group_name, sagemaker_session=feature_store_session)"
   ]
  },
  {
   "cell_type": "code",
   "execution_count": 6,
   "id": "0136d8b8-749d-4b8d-ab21-f9d63cb29f1f",
   "metadata": {},
   "outputs": [
    {
     "data": {
      "text/plain": [
       "{'FeatureGroupArn': 'arn:aws:sagemaker:us-east-1:061803124211:feature-group/titanic-features',\n",
       " 'FeatureGroupName': 'titanic-features',\n",
       " 'RecordIdentifierFeatureName': 'PassengerId',\n",
       " 'EventTimeFeatureName': 'EventTime',\n",
       " 'FeatureDefinitions': [{'FeatureName': 'PassengerId',\n",
       "   'FeatureType': 'Integral'},\n",
       "  {'FeatureName': 'Survived', 'FeatureType': 'Integral'},\n",
       "  {'FeatureName': 'Pclass', 'FeatureType': 'Integral'},\n",
       "  {'FeatureName': 'Sex', 'FeatureType': 'Integral'},\n",
       "  {'FeatureName': 'Age', 'FeatureType': 'Fractional'},\n",
       "  {'FeatureName': 'SibSp', 'FeatureType': 'Integral'},\n",
       "  {'FeatureName': 'Parch', 'FeatureType': 'Integral'},\n",
       "  {'FeatureName': 'EventTime', 'FeatureType': 'Fractional'}],\n",
       " 'CreationTime': datetime.datetime(2022, 10, 24, 12, 9, 36, 247000, tzinfo=tzlocal()),\n",
       " 'OfflineStoreConfig': {'S3StorageConfig': {'S3Uri': 's3://mlopsstack-mlbucket12760f44-590xj4q47o7h/features',\n",
       "   'ResolvedOutputS3Uri': 's3://mlopsstack-mlbucket12760f44-590xj4q47o7h/features/061803124211/sagemaker/us-east-1/offline-store/titanic-features-1666613376/data'},\n",
       "  'DisableGlueTableCreation': False,\n",
       "  'DataCatalogConfig': {'TableName': 'titanic-features-1666613376',\n",
       "   'Catalog': 'AwsDataCatalog',\n",
       "   'Database': 'sagemaker_featurestore'}},\n",
       " 'RoleArn': 'arn:aws:iam::061803124211:role/TeamRole',\n",
       " 'FeatureGroupStatus': 'Created',\n",
       " 'OfflineStoreStatus': {'Status': 'Active'},\n",
       " 'ResponseMetadata': {'RequestId': 'ef2cade2-b53b-4462-9e1a-ef8a546d4857',\n",
       "  'HTTPStatusCode': 200,\n",
       "  'HTTPHeaders': {'x-amzn-requestid': 'ef2cade2-b53b-4462-9e1a-ef8a546d4857',\n",
       "   'content-type': 'application/x-amz-json-1.1',\n",
       "   'content-length': '1563',\n",
       "   'date': 'Mon, 24 Oct 2022 13:37:26 GMT'},\n",
       "  'RetryAttempts': 0}}"
      ]
     },
     "execution_count": 6,
     "metadata": {},
     "output_type": "execute_result"
    }
   ],
   "source": [
    "titanic_feature_group.describe()"
   ]
  },
  {
   "cell_type": "code",
   "execution_count": 7,
   "id": "3718d067-8d3c-4fb5-94e1-7a1f41e28697",
   "metadata": {},
   "outputs": [],
   "source": [
    "titanic_query = titanic_feature_group.athena_query()\n",
    "titanic_table = titanic_query.table_name\n",
    "output_bucket = 'martinig-athena-results-test'"
   ]
  },
  {
   "cell_type": "code",
   "execution_count": 8,
   "id": "531d6aad-9eb7-4b8c-a5c5-9d96818a6392",
   "metadata": {},
   "outputs": [],
   "source": [
    "query_string = f'SELECT * FROM \"sagemaker_featurestore\".\"{titanic_table}\";'"
   ]
  },
  {
   "cell_type": "code",
   "execution_count": 9,
   "id": "d0308054-f264-4673-9689-7999aec7cc25",
   "metadata": {},
   "outputs": [],
   "source": [
    "df = pd.DataFrame()\n",
    "titanic_query.run(query_string=query_string, output_location='s3://'+output_bucket+'/query_results/')\n",
    "titanic_query.wait()\n",
    "df = titanic_query.as_dataframe()"
   ]
  },
  {
   "cell_type": "code",
   "execution_count": 10,
   "id": "e3fd2cd1-34e0-472c-bba1-44a542581595",
   "metadata": {},
   "outputs": [
    {
     "data": {
      "text/html": [
       "<div>\n",
       "<style scoped>\n",
       "    .dataframe tbody tr th:only-of-type {\n",
       "        vertical-align: middle;\n",
       "    }\n",
       "\n",
       "    .dataframe tbody tr th {\n",
       "        vertical-align: top;\n",
       "    }\n",
       "\n",
       "    .dataframe thead th {\n",
       "        text-align: right;\n",
       "    }\n",
       "</style>\n",
       "<table border=\"1\" class=\"dataframe\">\n",
       "  <thead>\n",
       "    <tr style=\"text-align: right;\">\n",
       "      <th></th>\n",
       "      <th>passengerid</th>\n",
       "      <th>survived</th>\n",
       "      <th>pclass</th>\n",
       "      <th>sex</th>\n",
       "      <th>age</th>\n",
       "      <th>sibsp</th>\n",
       "      <th>parch</th>\n",
       "      <th>eventtime</th>\n",
       "      <th>write_time</th>\n",
       "      <th>api_invocation_time</th>\n",
       "      <th>is_deleted</th>\n",
       "    </tr>\n",
       "  </thead>\n",
       "  <tbody>\n",
       "    <tr>\n",
       "      <th>0</th>\n",
       "      <td>14</td>\n",
       "      <td>0</td>\n",
       "      <td>3</td>\n",
       "      <td>0</td>\n",
       "      <td>39.0</td>\n",
       "      <td>1</td>\n",
       "      <td>5</td>\n",
       "      <td>1.666613e+09</td>\n",
       "      <td>2022-10-24 12:15:45.165</td>\n",
       "      <td>2022-10-24 12:10:00.000</td>\n",
       "      <td>False</td>\n",
       "    </tr>\n",
       "    <tr>\n",
       "      <th>1</th>\n",
       "      <td>313</td>\n",
       "      <td>0</td>\n",
       "      <td>2</td>\n",
       "      <td>1</td>\n",
       "      <td>26.0</td>\n",
       "      <td>1</td>\n",
       "      <td>1</td>\n",
       "      <td>1.666613e+09</td>\n",
       "      <td>2022-10-24 12:15:45.165</td>\n",
       "      <td>2022-10-24 12:10:00.000</td>\n",
       "      <td>False</td>\n",
       "    </tr>\n",
       "    <tr>\n",
       "      <th>2</th>\n",
       "      <td>347</td>\n",
       "      <td>1</td>\n",
       "      <td>2</td>\n",
       "      <td>1</td>\n",
       "      <td>40.0</td>\n",
       "      <td>0</td>\n",
       "      <td>0</td>\n",
       "      <td>1.666613e+09</td>\n",
       "      <td>2022-10-24 12:15:45.165</td>\n",
       "      <td>2022-10-24 12:10:00.000</td>\n",
       "      <td>False</td>\n",
       "    </tr>\n",
       "    <tr>\n",
       "      <th>3</th>\n",
       "      <td>354</td>\n",
       "      <td>0</td>\n",
       "      <td>3</td>\n",
       "      <td>0</td>\n",
       "      <td>25.0</td>\n",
       "      <td>1</td>\n",
       "      <td>0</td>\n",
       "      <td>1.666613e+09</td>\n",
       "      <td>2022-10-24 12:15:45.165</td>\n",
       "      <td>2022-10-24 12:10:00.000</td>\n",
       "      <td>False</td>\n",
       "    </tr>\n",
       "    <tr>\n",
       "      <th>4</th>\n",
       "      <td>355</td>\n",
       "      <td>0</td>\n",
       "      <td>3</td>\n",
       "      <td>0</td>\n",
       "      <td>-1.0</td>\n",
       "      <td>0</td>\n",
       "      <td>0</td>\n",
       "      <td>1.666613e+09</td>\n",
       "      <td>2022-10-24 12:15:45.165</td>\n",
       "      <td>2022-10-24 12:10:00.000</td>\n",
       "      <td>False</td>\n",
       "    </tr>\n",
       "  </tbody>\n",
       "</table>\n",
       "</div>"
      ],
      "text/plain": [
       "   passengerid  survived  pclass  sex   age  sibsp  parch     eventtime  \\\n",
       "0           14         0       3    0  39.0      1      5  1.666613e+09   \n",
       "1          313         0       2    1  26.0      1      1  1.666613e+09   \n",
       "2          347         1       2    1  40.0      0      0  1.666613e+09   \n",
       "3          354         0       3    0  25.0      1      0  1.666613e+09   \n",
       "4          355         0       3    0  -1.0      0      0  1.666613e+09   \n",
       "\n",
       "                write_time      api_invocation_time  is_deleted  \n",
       "0  2022-10-24 12:15:45.165  2022-10-24 12:10:00.000       False  \n",
       "1  2022-10-24 12:15:45.165  2022-10-24 12:10:00.000       False  \n",
       "2  2022-10-24 12:15:45.165  2022-10-24 12:10:00.000       False  \n",
       "3  2022-10-24 12:15:45.165  2022-10-24 12:10:00.000       False  \n",
       "4  2022-10-24 12:15:45.165  2022-10-24 12:10:00.000       False  "
      ]
     },
     "execution_count": 10,
     "metadata": {},
     "output_type": "execute_result"
    }
   ],
   "source": [
    "df.head()"
   ]
  },
  {
   "cell_type": "markdown",
   "id": "a7ba3781-b1ed-4f59-9934-45a498ccf792",
   "metadata": {},
   "source": [
    "# Explorar"
   ]
  },
  {
   "cell_type": "code",
   "execution_count": 11,
   "id": "8e538c5f-64ec-435e-bef1-f3111629a8b4",
   "metadata": {},
   "outputs": [],
   "source": [
    "import matplotlib.pyplot as plt\n",
    "import seaborn as sns"
   ]
  },
  {
   "cell_type": "code",
   "execution_count": 12,
   "id": "624cd842-a1db-4324-b199-d450246d7023",
   "metadata": {},
   "outputs": [],
   "source": [
    "%matplotlib inline\n",
    "%config InlineBackend.figure_format = 'retina'\n",
    "plt.style.use('seaborn-ticks')"
   ]
  },
  {
   "cell_type": "code",
   "execution_count": 13,
   "id": "a92a6ee4-762e-4bd5-9871-a3bee1e64ad8",
   "metadata": {},
   "outputs": [
    {
     "data": {
      "text/html": [
       "<div>\n",
       "<style scoped>\n",
       "    .dataframe tbody tr th:only-of-type {\n",
       "        vertical-align: middle;\n",
       "    }\n",
       "\n",
       "    .dataframe tbody tr th {\n",
       "        vertical-align: top;\n",
       "    }\n",
       "\n",
       "    .dataframe thead th {\n",
       "        text-align: right;\n",
       "    }\n",
       "</style>\n",
       "<table border=\"1\" class=\"dataframe\">\n",
       "  <thead>\n",
       "    <tr style=\"text-align: right;\">\n",
       "      <th></th>\n",
       "      <th>passengerid</th>\n",
       "      <th>survived</th>\n",
       "      <th>pclass</th>\n",
       "      <th>sex</th>\n",
       "      <th>age</th>\n",
       "      <th>sibsp</th>\n",
       "      <th>parch</th>\n",
       "      <th>eventtime</th>\n",
       "    </tr>\n",
       "  </thead>\n",
       "  <tbody>\n",
       "    <tr>\n",
       "      <th>count</th>\n",
       "      <td>891.000000</td>\n",
       "      <td>891.000000</td>\n",
       "      <td>891.000000</td>\n",
       "      <td>891.000000</td>\n",
       "      <td>891.000000</td>\n",
       "      <td>891.000000</td>\n",
       "      <td>891.000000</td>\n",
       "      <td>8.910000e+02</td>\n",
       "    </tr>\n",
       "    <tr>\n",
       "      <th>mean</th>\n",
       "      <td>446.000000</td>\n",
       "      <td>0.383838</td>\n",
       "      <td>2.308642</td>\n",
       "      <td>0.352413</td>\n",
       "      <td>23.600640</td>\n",
       "      <td>0.523008</td>\n",
       "      <td>0.381594</td>\n",
       "      <td>1.666613e+09</td>\n",
       "    </tr>\n",
       "    <tr>\n",
       "      <th>std</th>\n",
       "      <td>257.353842</td>\n",
       "      <td>0.486592</td>\n",
       "      <td>0.836071</td>\n",
       "      <td>0.477990</td>\n",
       "      <td>17.867496</td>\n",
       "      <td>1.102743</td>\n",
       "      <td>0.806057</td>\n",
       "      <td>0.000000e+00</td>\n",
       "    </tr>\n",
       "    <tr>\n",
       "      <th>min</th>\n",
       "      <td>1.000000</td>\n",
       "      <td>0.000000</td>\n",
       "      <td>1.000000</td>\n",
       "      <td>0.000000</td>\n",
       "      <td>-1.000000</td>\n",
       "      <td>0.000000</td>\n",
       "      <td>0.000000</td>\n",
       "      <td>1.666613e+09</td>\n",
       "    </tr>\n",
       "    <tr>\n",
       "      <th>25%</th>\n",
       "      <td>223.500000</td>\n",
       "      <td>0.000000</td>\n",
       "      <td>2.000000</td>\n",
       "      <td>0.000000</td>\n",
       "      <td>6.000000</td>\n",
       "      <td>0.000000</td>\n",
       "      <td>0.000000</td>\n",
       "      <td>1.666613e+09</td>\n",
       "    </tr>\n",
       "    <tr>\n",
       "      <th>50%</th>\n",
       "      <td>446.000000</td>\n",
       "      <td>0.000000</td>\n",
       "      <td>3.000000</td>\n",
       "      <td>0.000000</td>\n",
       "      <td>24.000000</td>\n",
       "      <td>0.000000</td>\n",
       "      <td>0.000000</td>\n",
       "      <td>1.666613e+09</td>\n",
       "    </tr>\n",
       "    <tr>\n",
       "      <th>75%</th>\n",
       "      <td>668.500000</td>\n",
       "      <td>1.000000</td>\n",
       "      <td>3.000000</td>\n",
       "      <td>1.000000</td>\n",
       "      <td>35.000000</td>\n",
       "      <td>1.000000</td>\n",
       "      <td>0.000000</td>\n",
       "      <td>1.666613e+09</td>\n",
       "    </tr>\n",
       "    <tr>\n",
       "      <th>max</th>\n",
       "      <td>891.000000</td>\n",
       "      <td>1.000000</td>\n",
       "      <td>3.000000</td>\n",
       "      <td>1.000000</td>\n",
       "      <td>80.000000</td>\n",
       "      <td>8.000000</td>\n",
       "      <td>6.000000</td>\n",
       "      <td>1.666613e+09</td>\n",
       "    </tr>\n",
       "  </tbody>\n",
       "</table>\n",
       "</div>"
      ],
      "text/plain": [
       "       passengerid    survived      pclass         sex         age  \\\n",
       "count   891.000000  891.000000  891.000000  891.000000  891.000000   \n",
       "mean    446.000000    0.383838    2.308642    0.352413   23.600640   \n",
       "std     257.353842    0.486592    0.836071    0.477990   17.867496   \n",
       "min       1.000000    0.000000    1.000000    0.000000   -1.000000   \n",
       "25%     223.500000    0.000000    2.000000    0.000000    6.000000   \n",
       "50%     446.000000    0.000000    3.000000    0.000000   24.000000   \n",
       "75%     668.500000    1.000000    3.000000    1.000000   35.000000   \n",
       "max     891.000000    1.000000    3.000000    1.000000   80.000000   \n",
       "\n",
       "            sibsp       parch     eventtime  \n",
       "count  891.000000  891.000000  8.910000e+02  \n",
       "mean     0.523008    0.381594  1.666613e+09  \n",
       "std      1.102743    0.806057  0.000000e+00  \n",
       "min      0.000000    0.000000  1.666613e+09  \n",
       "25%      0.000000    0.000000  1.666613e+09  \n",
       "50%      0.000000    0.000000  1.666613e+09  \n",
       "75%      1.000000    0.000000  1.666613e+09  \n",
       "max      8.000000    6.000000  1.666613e+09  "
      ]
     },
     "execution_count": 13,
     "metadata": {},
     "output_type": "execute_result"
    }
   ],
   "source": [
    "df.describe()"
   ]
  },
  {
   "cell_type": "code",
   "execution_count": 14,
   "id": "558dd282-2e18-4837-b809-606b34601fc4",
   "metadata": {},
   "outputs": [],
   "source": [
    "def plot(table, legloc='upper right',\n",
    "                                    plt_style = 'seaborn-ticks',\n",
    "                                    color_palette=\"dark\",sorter=None, stacked=False,\n",
    "                                    kind = 'bar', percentage = True,\n",
    "                               custom_title=None, minimal=True, figsize=(19,10), width=0.7 ):     \n",
    "    grouped = table\n",
    "    \n",
    "    #Tranform to percentages\n",
    "    if percentage == True:\n",
    "        grouped = np.round(grouped.divide(grouped['Total'],axis=0)*100,0)\n",
    "    try:   \n",
    "        del grouped['Total']\n",
    "    except:\n",
    "        pass\n",
    "    \n",
    "    # rearrange the columns\n",
    "    if sorter:\n",
    "        grouped = grouped[sorter]\n",
    "\n",
    "    plt.style.use(plt_style)\n",
    "    sns.set_palette(sns.color_palette(color_palette))\n",
    "    ax = grouped.plot(kind=kind,stacked=stacked, figsize=figsize, width=width)\n",
    "    _ = plt.setp(ax.get_xticklabels(), rotation=0)  # Rotate labels\n",
    "    plt.legend(loc=legloc) # plot the legend normally\n",
    "    \n",
    "    #annotate the bars\n",
    "    if percentage == True:\n",
    "      for p in ax.patches:\n",
    "            ax.annotate('{}%'.format(int(np.round(p.get_height(),decimals=2))),\n",
    "                                         (p.get_x()+p.get_width()/2.,\n",
    "                                          p.get_height()), ha='center', va='center',\n",
    "                                        xytext=(0, 10), textcoords='offset points')\n",
    "    else:\n",
    "      for p in ax.patches:\n",
    "            ax.annotate(np.round(p.get_height(),decimals=2),\n",
    "                                         (p.get_x()+p.get_width()/2.,\n",
    "                                          p.get_height()), ha='center', va='center',\n",
    "                                        xytext=(0, 10), textcoords='offset points')\n",
    "    if minimal == True:\n",
    "        ax.get_yaxis().set_ticks([])\n",
    "        plt.xlabel('')\n",
    "        sns.despine(top=True, right=True, left=True, bottom=False);\n",
    "    else:\n",
    "        pass     \n",
    "    # set custom title    \n",
    "    plt.title(custom_title)"
   ]
  },
  {
   "cell_type": "code",
   "execution_count": 15,
   "id": "3b79851e-9c03-4758-aeae-0206d8d757d3",
   "metadata": {},
   "outputs": [],
   "source": [
    "def Groupby_TwoCol_Plot(df, col1, col2, legloc='upper right',\n",
    "                                    plt_style = 'ggplot',\n",
    "                                    color_palette=\"dark\",sorter=None, stacked=False,\n",
    "                                    kind = 'bar', percentage = True,\n",
    "                               custom_title=None, minimal=True, figsize=(14,6), width=0.6):   \n",
    "    \n",
    "    #Group by Placement and Representative and unstack by Placement\n",
    "    grouped = df.groupby([col2,col1]).size().unstack(col2)\n",
    "    \n",
    "    #Make a totals column sort and delete after\n",
    "    grouped['Total'] = grouped.sum(axis=1)\n",
    "    #grouped = grouped.sort_values('Total', ascending = False)\n",
    "   \n",
    "    plot(grouped, legloc=legloc,\n",
    "                                    plt_style = plt_style,\n",
    "                                    color_palette=color_palette,sorter=sorter, stacked=stacked,\n",
    "                                    kind = kind , percentage = percentage,\n",
    "                               custom_title=custom_title, minimal=minimal, figsize=figsize, width=width)    "
   ]
  },
  {
   "cell_type": "code",
   "execution_count": 16,
   "id": "088b6cff-a548-440e-b0fa-a19e3abb84f0",
   "metadata": {},
   "outputs": [
    {
     "data": {
      "image/png": "[encoded data removed]",
      "text/plain": [
       "<Figure size 1400x600 with 1 Axes>"
      ]
     },
     "metadata": {
      "image/png": {
       "height": 530,
       "width": 1105
      }
     },
     "output_type": "display_data"
    }
   ],
   "source": [
    "Groupby_TwoCol_Plot(df,\n",
    "                    'survived',\n",
    "                    'sex',\n",
    "                    color_palette=('red','green'),\n",
    "                    plt_style = 'seaborn-ticks',\n",
    "                    custom_title='Proportion of Survived per Sex',\n",
    "                    legloc='upper left')"
   ]
  },
  {
   "cell_type": "markdown",
   "id": "71bd4559-f2ec-4e6b-a7a0-339ee8e6e411",
   "metadata": {},
   "source": [
    "# Preparar"
   ]
  },
  {
   "cell_type": "code",
   "execution_count": 17,
   "id": "6cddf6b9-cfb6-470f-8ce5-be7bbe1bba3b",
   "metadata": {},
   "outputs": [],
   "source": [
    "from sklearn.model_selection import train_test_split"
   ]
  },
  {
   "cell_type": "code",
   "execution_count": 18,
   "id": "6888c7bf-cdbd-4925-a806-940f36125385",
   "metadata": {},
   "outputs": [],
   "source": [
    "features_target = ['sex', 'age', 'survived']"
   ]
  },
  {
   "cell_type": "code",
   "execution_count": 19,
   "id": "cb7b3502-d7ba-45d3-ab90-3c95074e903e",
   "metadata": {},
   "outputs": [],
   "source": [
    "df = df.filter(features_target)"
   ]
  },
  {
   "cell_type": "code",
   "execution_count": 20,
   "id": "aee6e882-3a66-4b5e-bf8b-ace11887d5c0",
   "metadata": {},
   "outputs": [
    {
     "data": {
      "text/html": [
       "<div>\n",
       "<style scoped>\n",
       "    .dataframe tbody tr th:only-of-type {\n",
       "        vertical-align: middle;\n",
       "    }\n",
       "\n",
       "    .dataframe tbody tr th {\n",
       "        vertical-align: top;\n",
       "    }\n",
       "\n",
       "    .dataframe thead th {\n",
       "        text-align: right;\n",
       "    }\n",
       "</style>\n",
       "<table border=\"1\" class=\"dataframe\">\n",
       "  <thead>\n",
       "    <tr style=\"text-align: right;\">\n",
       "      <th></th>\n",
       "      <th>sex</th>\n",
       "      <th>age</th>\n",
       "      <th>survived</th>\n",
       "    </tr>\n",
       "  </thead>\n",
       "  <tbody>\n",
       "    <tr>\n",
       "      <th>0</th>\n",
       "      <td>0</td>\n",
       "      <td>39.0</td>\n",
       "      <td>0</td>\n",
       "    </tr>\n",
       "    <tr>\n",
       "      <th>1</th>\n",
       "      <td>1</td>\n",
       "      <td>26.0</td>\n",
       "      <td>0</td>\n",
       "    </tr>\n",
       "    <tr>\n",
       "      <th>2</th>\n",
       "      <td>1</td>\n",
       "      <td>40.0</td>\n",
       "      <td>1</td>\n",
       "    </tr>\n",
       "    <tr>\n",
       "      <th>3</th>\n",
       "      <td>0</td>\n",
       "      <td>25.0</td>\n",
       "      <td>0</td>\n",
       "    </tr>\n",
       "    <tr>\n",
       "      <th>4</th>\n",
       "      <td>0</td>\n",
       "      <td>-1.0</td>\n",
       "      <td>0</td>\n",
       "    </tr>\n",
       "  </tbody>\n",
       "</table>\n",
       "</div>"
      ],
      "text/plain": [
       "   sex   age  survived\n",
       "0    0  39.0         0\n",
       "1    1  26.0         0\n",
       "2    1  40.0         1\n",
       "3    0  25.0         0\n",
       "4    0  -1.0         0"
      ]
     },
     "execution_count": 20,
     "metadata": {},
     "output_type": "execute_result"
    }
   ],
   "source": [
    "df.head()"
   ]
  },
  {
   "cell_type": "code",
   "execution_count": 21,
   "id": "af7bcf25-c8bc-482f-b4fb-4bf361ac9eea",
   "metadata": {},
   "outputs": [],
   "source": [
    "train, test = train_test_split(df, test_size=0.2)"
   ]
  },
  {
   "cell_type": "markdown",
   "id": "0c8e5dee-3864-4552-b597-1823375bbafb",
   "metadata": {},
   "source": [
    "# Modelar"
   ]
  },
  {
   "cell_type": "code",
   "execution_count": 22,
   "id": "8024eb2e-2580-4111-b36d-2f6a6d11900a",
   "metadata": {},
   "outputs": [],
   "source": [
    "from sklearn.ensemble import RandomForestClassifier"
   ]
  },
  {
   "cell_type": "code",
   "execution_count": 23,
   "id": "8746924c-9d9d-4223-ac62-2202f9834b34",
   "metadata": {},
   "outputs": [],
   "source": [
    "model = RandomForestClassifier(n_estimators=100, n_jobs=-1, random_state=0)"
   ]
  },
  {
   "cell_type": "code",
   "execution_count": 24,
   "id": "a24364af-b7cb-40c2-9ca1-672e238d27f9",
   "metadata": {},
   "outputs": [],
   "source": [
    "X = train[features_target[:-1]]\n",
    "Y = train[features_target[-1:]]"
   ]
  },
  {
   "cell_type": "code",
   "execution_count": 25,
   "id": "63f0e7f8-135a-4d95-a257-239a434905fd",
   "metadata": {},
   "outputs": [
    {
     "data": {
      "text/html": [
       "<div>\n",
       "<style scoped>\n",
       "    .dataframe tbody tr th:only-of-type {\n",
       "        vertical-align: middle;\n",
       "    }\n",
       "\n",
       "    .dataframe tbody tr th {\n",
       "        vertical-align: top;\n",
       "    }\n",
       "\n",
       "    .dataframe thead th {\n",
       "        text-align: right;\n",
       "    }\n",
       "</style>\n",
       "<table border=\"1\" class=\"dataframe\">\n",
       "  <thead>\n",
       "    <tr style=\"text-align: right;\">\n",
       "      <th></th>\n",
       "      <th>sex</th>\n",
       "      <th>age</th>\n",
       "    </tr>\n",
       "  </thead>\n",
       "  <tbody>\n",
       "    <tr>\n",
       "      <th>707</th>\n",
       "      <td>0</td>\n",
       "      <td>-1.0</td>\n",
       "    </tr>\n",
       "    <tr>\n",
       "      <th>834</th>\n",
       "      <td>0</td>\n",
       "      <td>-1.0</td>\n",
       "    </tr>\n",
       "    <tr>\n",
       "      <th>579</th>\n",
       "      <td>0</td>\n",
       "      <td>35.0</td>\n",
       "    </tr>\n",
       "    <tr>\n",
       "      <th>165</th>\n",
       "      <td>0</td>\n",
       "      <td>32.0</td>\n",
       "    </tr>\n",
       "    <tr>\n",
       "      <th>380</th>\n",
       "      <td>1</td>\n",
       "      <td>18.0</td>\n",
       "    </tr>\n",
       "  </tbody>\n",
       "</table>\n",
       "</div>"
      ],
      "text/plain": [
       "     sex   age\n",
       "707    0  -1.0\n",
       "834    0  -1.0\n",
       "579    0  35.0\n",
       "165    0  32.0\n",
       "380    1  18.0"
      ]
     },
     "execution_count": 25,
     "metadata": {},
     "output_type": "execute_result"
    }
   ],
   "source": [
    "X.head()"
   ]
  },
  {
   "cell_type": "code",
   "execution_count": 26,
   "id": "82fd8a49-f129-4be7-8a4d-ba6c5e866c90",
   "metadata": {},
   "outputs": [
    {
     "name": "stderr",
     "output_type": "stream",
     "text": [
      "/opt/conda/lib/python3.7/site-packages/ipykernel_launcher.py:1: DataConversionWarning: A column-vector y was passed when a 1d array was expected. Please change the shape of y to (n_samples,), for example using ravel().\n",
      "  \"\"\"Entry point for launching an IPython kernel.\n"
     ]
    },
    {
     "data": {
      "text/plain": [
       "RandomForestClassifier(bootstrap=True, ccp_alpha=0.0, class_weight=None,\n",
       "                       criterion='gini', max_depth=None, max_features='auto',\n",
       "                       max_leaf_nodes=None, max_samples=None,\n",
       "                       min_impurity_decrease=0.0, min_impurity_split=None,\n",
       "                       min_samples_leaf=1, min_samples_split=2,\n",
       "                       min_weight_fraction_leaf=0.0, n_estimators=100,\n",
       "                       n_jobs=-1, oob_score=False, random_state=0, verbose=0,\n",
       "                       warm_start=False)"
      ]
     },
     "execution_count": 26,
     "metadata": {},
     "output_type": "execute_result"
    }
   ],
   "source": [
    "model.fit(X, Y)"
   ]
  },
  {
   "cell_type": "markdown",
   "id": "c40a9484-c099-44ca-a308-6292b64bdde4",
   "metadata": {},
   "source": [
    "# Validar"
   ]
  },
  {
   "cell_type": "code",
   "execution_count": 27,
   "id": "16b008db-1e27-4d3e-8606-44490f7e5a48",
   "metadata": {},
   "outputs": [],
   "source": [
    "pred = model.predict(test[features_target[:-1]])"
   ]
  },
  {
   "cell_type": "code",
   "execution_count": 28,
   "id": "82803dfa-e13d-4ed4-ad85-5e718caabc01",
   "metadata": {},
   "outputs": [
    {
     "data": {
      "text/plain": [
       "0.529789956618083"
      ]
     },
     "metadata": {},
     "output_type": "display_data"
    }
   ],
   "source": [
    "acc = np.mean(test[features_target[-1:]].values == pred)\n",
    "display(acc)"
   ]
  },
  {
   "cell_type": "markdown",
   "id": "395c6c3e-efd7-4dfe-a029-524f68af8d04",
   "metadata": {},
   "source": [
    "# Criar artefatos\n",
    "\n",
    "https://sagemaker.readthedocs.io/en/stable/frameworks/sklearn/using_sklearn.html"
   ]
  },
  {
   "cell_type": "markdown",
   "id": "e6caa015-d3d0-4484-8106-ef58fa25ffa5",
   "metadata": {},
   "source": [
    "## Upload dos datasets de treino e teste"
   ]
  },
  {
   "cell_type": "code",
   "execution_count": 29,
   "id": "4b342b78-f67f-4edc-a508-933a2c460942",
   "metadata": {},
   "outputs": [],
   "source": [
    "bucket = 'mlopsstack-mlbucket12760f44-590xj4q47o7h'\n",
    "prefix = 'datasets/titanic'"
   ]
  },
  {
   "cell_type": "code",
   "execution_count": 30,
   "id": "0d473cb7-5e15-4c18-a3df-346a626ac3a1",
   "metadata": {},
   "outputs": [],
   "source": [
    "def upload_to_s3(channel, file):\n",
    "    s3 = boto3.resource('s3')\n",
    "    data = open(file, \"rb\")\n",
    "    key = prefix + '/' + channel + '/' + file\n",
    "    s3.Bucket(bucket).put_object(Key=key, Body=data)"
   ]
  },
  {
   "cell_type": "code",
   "execution_count": 31,
   "id": "ab96619d-83af-44aa-8966-d5a9ae502c05",
   "metadata": {},
   "outputs": [],
   "source": [
    "train.to_csv('train.csv')\n",
    "test.to_csv('test.csv')\n",
    "upload_to_s3('train', 'train.csv')\n",
    "upload_to_s3('test', 'test.csv')"
   ]
  },
  {
   "cell_type": "markdown",
   "id": "4b8b0b9e-ccb4-483f-baef-07a5f3c0395f",
   "metadata": {},
   "source": [
    "## Criação do script de preparação ou usar SageMaker Data Wrangler"
   ]
  },
  {
   "cell_type": "markdown",
   "id": "1d632c99-95f4-484c-8fb2-cab0cc28ff50",
   "metadata": {},
   "source": [
    "- https://docs.amazonaws.cn/en_us/sagemaker/latest/dg/use-scikit-learn-processing-container.html\n",
    "- https://docs.amazonaws.cn/en_us/sagemaker/latest/dg/data-wrangler-getting-started.html"
   ]
  },
  {
   "cell_type": "markdown",
   "id": "b9f208ef-c837-4a9e-82c2-8af0cde3266a",
   "metadata": {},
   "source": [
    "## Criação do script de treino e inferência"
   ]
  },
  {
   "cell_type": "code",
   "execution_count": 32,
   "id": "a4fd30cf-66a7-4351-b6e3-84a904ae0f0f",
   "metadata": {},
   "outputs": [],
   "source": [
    "from sagemaker.sklearn.estimator import SKLearn"
   ]
  },
  {
   "cell_type": "code",
   "execution_count": 33,
   "id": "664e3156-975b-4e59-98f3-55b24f5a541d",
   "metadata": {},
   "outputs": [
    {
     "name": "stdout",
     "output_type": "stream",
     "text": [
      "Overwriting train_inference.py\n"
     ]
    }
   ],
   "source": [
    "%%writefile train_inference.py\n",
    "\n",
    "import argparse\n",
    "import joblib\n",
    "import os\n",
    "\n",
    "import numpy as np\n",
    "import pandas as pd\n",
    "from sklearn.ensemble import RandomForestClassifier\n",
    "\n",
    "# inference function\n",
    "def model_fn(model_dir):\n",
    "    clf = joblib.load(os.path.join(model_dir, \"model.joblib\"))\n",
    "    return clf\n",
    "\n",
    "if __name__ == \"__main__\":\n",
    "    print(\"extracting arguments\")\n",
    "    parser = argparse.ArgumentParser()\n",
    "\n",
    "    # hyperparameters sent by the client are passed as command-line arguments to the script.\n",
    "    parser.add_argument(\"--n-estimators\", type=int, default=100)\n",
    "\n",
    "    # Data, model, and output directories\n",
    "    parser.add_argument(\"--model-dir\", type=str, default=os.environ.get(\"SM_MODEL_DIR\"))\n",
    "    parser.add_argument(\"--train\", type=str, default=os.environ.get(\"SM_CHANNEL_TRAIN\"))\n",
    "    parser.add_argument(\"--test\", type=str, default=os.environ.get(\"SM_CHANNEL_TEST\"))\n",
    "    parser.add_argument(\"--train-file\", type=str, default=\"train.csv\")\n",
    "    parser.add_argument(\"--test-file\", type=str, default=\"test.csv\")\n",
    "    parser.add_argument(\"--features\", type=str)\n",
    "    parser.add_argument(\"--target\", type=str) \n",
    "\n",
    "    args, _ = parser.parse_known_args()\n",
    "\n",
    "    print(\"reading data\")\n",
    "    train_df = pd.read_csv(os.path.join(args.train, args.train_file))\n",
    "    test_df = pd.read_csv(os.path.join(args.test, args.test_file))\n",
    "\n",
    "    print(\"building training and testing datasets\")\n",
    "    X_train = train_df[args.features.split()]\n",
    "    X_test = test_df[args.features.split()]\n",
    "    y_train = train_df[args.target]\n",
    "    y_test = test_df[args.target]\n",
    "\n",
    "    # train\n",
    "    print(\"training model\")\n",
    "    model = RandomForestClassifier(\n",
    "        n_estimators=args.n_estimators, random_state=0, n_jobs=-1\n",
    "    )\n",
    "\n",
    "    model.fit(X_train, y_train)\n",
    "\n",
    "    # print acc\n",
    "    print(\"validating model\")\n",
    "    pred = model.predict(X_test)\n",
    "    acc = np.mean(y_test == pred)\n",
    "    print(\"Accuracy: \" + str(acc))\n",
    "\n",
    "    # persist model\n",
    "    path = os.path.join(args.model_dir, \"model.joblib\")\n",
    "    joblib.dump(model, path)\n",
    "    print(\"model persisted at \" + path)\n"
   ]
  },
  {
   "cell_type": "code",
   "execution_count": 34,
   "id": "cad1e2be-5f2a-4b7b-9b2c-47445aa79a17",
   "metadata": {},
   "outputs": [
    {
     "name": "stdout",
     "output_type": "stream",
     "text": [
      "extracting arguments\n",
      "reading data\n",
      "building training and testing datasets\n",
      "training model\n",
      "validating model\n",
      "Accuracy: 0.7653631284916201\n",
      "model persisted at ./model.joblib\n"
     ]
    }
   ],
   "source": [
    "! python train.py --n-estimators 100 \\\n",
    "                   --model-dir ./ \\\n",
    "                   --train ./ \\\n",
    "                   --test ./ \\\n",
    "                   --features 'sex age' \\\n",
    "                   --target 'survived'"
   ]
  },
  {
   "cell_type": "code",
   "execution_count": 35,
   "id": "0ca4387e-bef2-4628-a898-92a7afe74fb6",
   "metadata": {},
   "outputs": [],
   "source": [
    "# We use the Estimator from the SageMaker Python SDK\n",
    "FRAMEWORK_VERSION = \"0.23-1\"\n",
    "\n",
    "sklearn_estimator = SKLearn(\n",
    "    entry_point=\"train_inference.py\",\n",
    "    role=sagemaker.get_execution_role(),\n",
    "    instance_count=1,\n",
    "    instance_type=\"ml.c5.xlarge\",\n",
    "    framework_version=FRAMEWORK_VERSION,\n",
    "    base_job_name=\"titanic-scikit\",\n",
    "    metric_definitions=[{\"Name\": \"Accuracy\", \"Regex\": \"Accuracy: ([0-9.]+).*$\"}],\n",
    "    hyperparameters={\n",
    "        \"n-estimators\": 100,\n",
    "        \"features\": \"sex age\",\n",
    "        \"target\": \"survived\",\n",
    "    },\n",
    ")"
   ]
  },
  {
   "cell_type": "code",
   "execution_count": 36,
   "id": "cf426ee0-e0ea-4d06-ae72-bffa264d0bba",
   "metadata": {},
   "outputs": [
    {
     "name": "stdout",
     "output_type": "stream",
     "text": [
      "2022-10-24 13:37:58 Starting - Starting the training job...\n",
      "2022-10-24 13:38:22 Starting - Preparing the instances for trainingProfilerReport-1666618678: InProgress\n",
      ".........\n",
      "2022-10-24 13:39:43 Downloading - Downloading input data...\n",
      "2022-10-24 13:40:23 Training - Downloading the training image..\u001b[34m2022-10-24 13:40:36,651 sagemaker-containers INFO     Imported framework sagemaker_sklearn_container.training\u001b[0m\n",
      "\u001b[34m2022-10-24 13:40:36,654 sagemaker-training-toolkit INFO     No GPUs detected (normal if no gpus installed)\u001b[0m\n",
      "\u001b[34m2022-10-24 13:40:36,664 sagemaker_sklearn_container.training INFO     Invoking user training script.\u001b[0m\n",
      "\u001b[34m2022-10-24 13:40:37,155 sagemaker-training-toolkit INFO     No GPUs detected (normal if no gpus installed)\u001b[0m\n",
      "\u001b[34m2022-10-24 13:40:37,170 sagemaker-training-toolkit INFO     No GPUs detected (normal if no gpus installed)\u001b[0m\n",
      "\u001b[34m2022-10-24 13:40:37,180 sagemaker-training-toolkit INFO     No GPUs detected (normal if no gpus installed)\u001b[0m\n",
      "\u001b[34m2022-10-24 13:40:37,189 sagemaker-training-toolkit INFO     Invoking user script\u001b[0m\n",
      "\u001b[34mTraining Env:\u001b[0m\n",
      "\u001b[34m{\n",
      "    \"additional_framework_parameters\": {},\n",
      "    \"channel_input_dirs\": {\n",
      "        \"test\": \"/opt/ml/input/data/test\",\n",
      "        \"train\": \"/opt/ml/input/data/train\"\n",
      "    },\n",
      "    \"current_host\": \"algo-1\",\n",
      "    \"framework_module\": \"sagemaker_sklearn_container.training:main\",\n",
      "    \"hosts\": [\n",
      "        \"algo-1\"\n",
      "    ],\n",
      "    \"hyperparameters\": {\n",
      "        \"features\": \"sex age\",\n",
      "        \"n-estimators\": 100,\n",
      "        \"target\": \"survived\"\n",
      "    },\n",
      "    \"input_config_dir\": \"/opt/ml/input/config\",\n",
      "    \"input_data_config\": {\n",
      "        \"test\": {\n",
      "            \"TrainingInputMode\": \"File\",\n",
      "            \"S3DistributionType\": \"FullyReplicated\",\n",
      "            \"RecordWrapperType\": \"None\"\n",
      "        },\n",
      "        \"train\": {\n",
      "            \"TrainingInputMode\": \"File\",\n",
      "            \"S3DistributionType\": \"FullyReplicated\",\n",
      "            \"RecordWrapperType\": \"None\"\n",
      "        }\n",
      "    },\n",
      "    \"input_dir\": \"/opt/ml/input\",\n",
      "    \"is_master\": true,\n",
      "    \"job_name\": \"titanic-scikit-2022-10-24-13-37-58-219\",\n",
      "    \"log_level\": 20,\n",
      "    \"master_hostname\": \"algo-1\",\n",
      "    \"model_dir\": \"/opt/ml/model\",\n",
      "    \"module_dir\": \"s3://sagemaker-us-east-1-061803124211/titanic-scikit-2022-10-24-13-37-58-219/source/sourcedir.tar.gz\",\n",
      "    \"module_name\": \"train_inference\",\n",
      "    \"network_interface_name\": \"eth0\",\n",
      "    \"num_cpus\": 4,\n",
      "    \"num_gpus\": 0,\n",
      "    \"output_data_dir\": \"/opt/ml/output/data\",\n",
      "    \"output_dir\": \"/opt/ml/output\",\n",
      "    \"output_intermediate_dir\": \"/opt/ml/output/intermediate\",\n",
      "    \"resource_config\": {\n",
      "        \"current_host\": \"algo-1\",\n",
      "        \"current_instance_type\": \"ml.c5.xlarge\",\n",
      "        \"current_group_name\": \"homogeneousCluster\",\n",
      "        \"hosts\": [\n",
      "            \"algo-1\"\n",
      "        ],\n",
      "        \"instance_groups\": [\n",
      "            {\n",
      "                \"instance_group_name\": \"homogeneousCluster\",\n",
      "                \"instance_type\": \"ml.c5.xlarge\",\n",
      "                \"hosts\": [\n",
      "                    \"algo-1\"\n",
      "                ]\n",
      "            }\n",
      "        ],\n",
      "        \"network_interface_name\": \"eth0\"\n",
      "    },\n",
      "    \"user_entry_point\": \"train_inference.py\"\u001b[0m\n",
      "\u001b[34m}\u001b[0m\n",
      "\u001b[34mEnvironment variables:\u001b[0m\n",
      "\u001b[34mSM_HOSTS=[\"algo-1\"]\u001b[0m\n",
      "\u001b[34mSM_NETWORK_INTERFACE_NAME=eth0\u001b[0m\n",
      "\u001b[34mSM_HPS={\"features\":\"sex age\",\"n-estimators\":100,\"target\":\"survived\"}\u001b[0m\n",
      "\u001b[34mSM_USER_ENTRY_POINT=train_inference.py\u001b[0m\n",
      "\u001b[34mSM_FRAMEWORK_PARAMS={}\u001b[0m\n",
      "\u001b[34mSM_RESOURCE_CONFIG={\"current_group_name\":\"homogeneousCluster\",\"current_host\":\"algo-1\",\"current_instance_type\":\"ml.c5.xlarge\",\"hosts\":[\"algo-1\"],\"instance_groups\":[{\"hosts\":[\"algo-1\"],\"instance_group_name\":\"homogeneousCluster\",\"instance_type\":\"ml.c5.xlarge\"}],\"network_interface_name\":\"eth0\"}\u001b[0m\n",
      "\u001b[34mSM_INPUT_DATA_CONFIG={\"test\":{\"RecordWrapperType\":\"None\",\"S3DistributionType\":\"FullyReplicated\",\"TrainingInputMode\":\"File\"},\"train\":{\"RecordWrapperType\":\"None\",\"S3DistributionType\":\"FullyReplicated\",\"TrainingInputMode\":\"File\"}}\u001b[0m\n",
      "\u001b[34mSM_OUTPUT_DATA_DIR=/opt/ml/output/data\u001b[0m\n",
      "\u001b[34mSM_CHANNELS=[\"test\",\"train\"]\u001b[0m\n",
      "\u001b[34mSM_CURRENT_HOST=algo-1\u001b[0m\n",
      "\u001b[34mSM_MODULE_NAME=train_inference\u001b[0m\n",
      "\u001b[34mSM_LOG_LEVEL=20\u001b[0m\n",
      "\u001b[34mSM_FRAMEWORK_MODULE=sagemaker_sklearn_container.training:main\u001b[0m\n",
      "\u001b[34mSM_INPUT_DIR=/opt/ml/input\u001b[0m\n",
      "\u001b[34mSM_INPUT_CONFIG_DIR=/opt/ml/input/config\u001b[0m\n",
      "\u001b[34mSM_OUTPUT_DIR=/opt/ml/output\u001b[0m\n",
      "\u001b[34mSM_NUM_CPUS=4\u001b[0m\n",
      "\u001b[34mSM_NUM_GPUS=0\u001b[0m\n",
      "\u001b[34mSM_MODEL_DIR=/opt/ml/model\u001b[0m\n",
      "\u001b[34mSM_MODULE_DIR=s3://sagemaker-us-east-1-061803124211/titanic-scikit-2022-10-24-13-37-58-219/source/sourcedir.tar.gz\u001b[0m\n",
      "\u001b[34mSM_TRAINING_ENV={\"additional_framework_parameters\":{},\"channel_input_dirs\":{\"test\":\"/opt/ml/input/data/test\",\"train\":\"/opt/ml/input/data/train\"},\"current_host\":\"algo-1\",\"framework_module\":\"sagemaker_sklearn_container.training:main\",\"hosts\":[\"algo-1\"],\"hyperparameters\":{\"features\":\"sex age\",\"n-estimators\":100,\"target\":\"survived\"},\"input_config_dir\":\"/opt/ml/input/config\",\"input_data_config\":{\"test\":{\"RecordWrapperType\":\"None\",\"S3DistributionType\":\"FullyReplicated\",\"TrainingInputMode\":\"File\"},\"train\":{\"RecordWrapperType\":\"None\",\"S3DistributionType\":\"FullyReplicated\",\"TrainingInputMode\":\"File\"}},\"input_dir\":\"/opt/ml/input\",\"is_master\":true,\"job_name\":\"titanic-scikit-2022-10-24-13-37-58-219\",\"log_level\":20,\"master_hostname\":\"algo-1\",\"model_dir\":\"/opt/ml/model\",\"module_dir\":\"s3://sagemaker-us-east-1-061803124211/titanic-scikit-2022-10-24-13-37-58-219/source/sourcedir.tar.gz\",\"module_name\":\"train_inference\",\"network_interface_name\":\"eth0\",\"num_cpus\":4,\"num_gpus\":0,\"output_data_dir\":\"/opt/ml/output/data\",\"output_dir\":\"/opt/ml/output\",\"output_intermediate_dir\":\"/opt/ml/output/intermediate\",\"resource_config\":{\"current_group_name\":\"homogeneousCluster\",\"current_host\":\"algo-1\",\"current_instance_type\":\"ml.c5.xlarge\",\"hosts\":[\"algo-1\"],\"instance_groups\":[{\"hosts\":[\"algo-1\"],\"instance_group_name\":\"homogeneousCluster\",\"instance_type\":\"ml.c5.xlarge\"}],\"network_interface_name\":\"eth0\"},\"user_entry_point\":\"train_inference.py\"}\u001b[0m\n",
      "\u001b[34mSM_USER_ARGS=[\"--features\",\"sex age\",\"--n-estimators\",\"100\",\"--target\",\"survived\"]\u001b[0m\n",
      "\u001b[34mSM_OUTPUT_INTERMEDIATE_DIR=/opt/ml/output/intermediate\u001b[0m\n",
      "\u001b[34mSM_CHANNEL_TEST=/opt/ml/input/data/test\u001b[0m\n",
      "\u001b[34mSM_CHANNEL_TRAIN=/opt/ml/input/data/train\u001b[0m\n",
      "\u001b[34mSM_HP_FEATURES=sex age\u001b[0m\n",
      "\u001b[34mSM_HP_N-ESTIMATORS=100\u001b[0m\n",
      "\u001b[34mSM_HP_TARGET=survived\u001b[0m\n",
      "\u001b[34mPYTHONPATH=/opt/ml/code:/miniconda3/bin:/miniconda3/lib/python37.zip:/miniconda3/lib/python3.7:/miniconda3/lib/python3.7/lib-dynload:/miniconda3/lib/python3.7/site-packages\u001b[0m\n",
      "\u001b[34mInvoking script with the following command:\u001b[0m\n",
      "\u001b[34m/miniconda3/bin/python train_inference.py --features sex age --n-estimators 100 --target survived\u001b[0m\n",
      "\u001b[34mextracting arguments\u001b[0m\n",
      "\u001b[34mreading data\u001b[0m\n",
      "\u001b[34mbuilding training and testing datasets\u001b[0m\n",
      "\u001b[34mtraining model\u001b[0m\n",
      "\u001b[34mvalidating model\u001b[0m\n",
      "\u001b[34mAccuracy: 0.7653631284916201\u001b[0m\n",
      "\u001b[34mmodel persisted at /opt/ml/model/model.joblib\u001b[0m\n",
      "\u001b[34m2022-10-24 13:40:39,119 sagemaker-containers INFO     Reporting training SUCCESS\u001b[0m\n",
      "\n",
      "2022-10-24 13:40:55 Uploading - Uploading generated training model\n",
      "2022-10-24 13:40:55 Completed - Training job completed\n",
      "Training seconds: 82\n",
      "Billable seconds: 82\n"
     ]
    }
   ],
   "source": [
    "# launch training job, with asynchronous call\n",
    "sklearn_estimator.fit({\"train\": f\"s3://{bucket}/{prefix}/train/\", \"test\": f\"s3://{bucket}/{prefix}/test/\"}, wait=True)"
   ]
  },
  {
   "cell_type": "code",
   "execution_count": 37,
   "id": "86b279af-c5a1-4804-84bb-4e3bf5f73e89",
   "metadata": {},
   "outputs": [
    {
     "name": "stdout",
     "output_type": "stream",
     "text": [
      "--------!"
     ]
    }
   ],
   "source": [
    "# Deploy my estimator to a SageMaker Endpoint and get a Predictor\n",
    "predictor = sklearn_estimator.deploy(instance_type='ml.m4.xlarge',\n",
    "                                     initial_instance_count=1)"
   ]
  },
  {
   "cell_type": "code",
   "execution_count": 38,
   "id": "95bee91c-849a-4de5-a29d-0e940e4ebfb0",
   "metadata": {},
   "outputs": [],
   "source": [
    "response = predictor.predict(test[features_target[:-1]])"
   ]
  },
  {
   "cell_type": "code",
   "execution_count": 40,
   "id": "e7945660-fd64-4349-b671-74c01c31bd10",
   "metadata": {},
   "outputs": [
    {
     "data": {
      "text/plain": [
       "array([1, 0, 0, 0, 0, 0, 1, 0, 1, 0, 0, 0, 0, 1, 1, 1, 1, 0, 0, 0, 0, 0,\n",
       "       0, 0, 0, 1, 0, 1, 1, 0, 1, 1, 0, 0, 0, 0, 0, 0, 1, 0, 0, 0, 1, 0,\n",
       "       0, 0, 0, 0, 1, 0, 0, 0, 1, 0, 1, 1, 0, 1, 1, 0, 1, 0, 0, 0, 0, 0,\n",
       "       0, 1, 0, 0, 0, 1, 0, 0, 0, 0, 0, 1, 1, 0, 1, 1, 0, 0, 1, 0, 1, 0,\n",
       "       0, 0, 1, 1, 1, 0, 0, 0, 0, 0, 0, 0, 0, 0, 1, 0, 1, 0, 0, 0, 0, 1,\n",
       "       0, 0, 0, 0, 0, 1, 0, 0, 1, 1, 1, 0, 0, 0, 0, 0, 0, 0, 1, 0, 0, 0,\n",
       "       0, 1, 0, 1, 0, 0, 1, 0, 0, 0, 0, 0, 0, 0, 0, 0, 0, 1, 0, 0, 0, 0,\n",
       "       0, 0, 0, 0, 0, 0, 0, 0, 1, 0, 0, 0, 0, 0, 1, 1, 0, 0, 1, 0, 0, 0,\n",
       "       0, 0, 0])"
      ]
     },
     "execution_count": 40,
     "metadata": {},
     "output_type": "execute_result"
    }
   ],
   "source": [
    "response"
   ]
  },
  {
   "cell_type": "code",
   "execution_count": 39,
   "id": "26da4cff-2372-4ab1-9ef4-308c702b4c85",
   "metadata": {},
   "outputs": [],
   "source": [
    "# predictor.delete_endpoint(delete_endpoint_config=True)"
   ]
  },
  {
   "cell_type": "markdown",
   "id": "9ca01b89-c715-4048-bf17-013961846eeb",
   "metadata": {},
   "source": [
    "## Criação do script de validação"
   ]
  },
  {
   "cell_type": "markdown",
   "id": "82949933-91f7-4051-886c-c293cf1c2aae",
   "metadata": {},
   "source": [
    "- https://docs.amazonaws.cn/en_us/sagemaker/latest/dg/use-scikit-learn-processing-container.html"
   ]
  }
 ],
 "metadata": {
  "instance_type": "ml.t3.medium",
  "kernelspec": {
   "display_name": "Python 3 (Data Science)",
   "language": "python",
   "name": "python3__SAGEMAKER_INTERNAL__arn:aws:sagemaker:us-east-1:081325390199:image/datascience-1.0"
  },
  "language_info": {
   "codemirror_mode": {
    "name": "ipython",
    "version": 3
   },
   "file_extension": ".py",
   "mimetype": "text/x-python",
   "name": "python",
   "nbconvert_exporter": "python",
   "pygments_lexer": "ipython3",
   "version": "3.7.10"
  }
 },
 "nbformat": 4,
 "nbformat_minor": 5
}
